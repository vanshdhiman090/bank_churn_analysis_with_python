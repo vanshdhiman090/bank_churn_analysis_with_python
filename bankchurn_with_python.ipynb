{
  "nbformat": 4,
  "nbformat_minor": 0,
  "metadata": {
    "colab": {
      "provenance": [],
      "mount_file_id": "1xw9sh2DWQAE7GHvm57Wx1spVpJn7DIcW",
      "authorship_tag": "ABX9TyNyl9U1KnmCEpXBPDjo/unP",
      "include_colab_link": true
    },
    "kernelspec": {
      "name": "python3",
      "display_name": "Python 3"
    },
    "language_info": {
      "name": "python"
    }
  },
  "cells": [
    {
      "cell_type": "markdown",
      "metadata": {
        "id": "view-in-github",
        "colab_type": "text"
      },
      "source": [
        "<a href=\"https://colab.research.google.com/github/vanshdhiman090/bank_churn_analysis_with_python/blob/main/bankchurn_with_python.ipynb\" target=\"_parent\"><img src=\"https://colab.research.google.com/assets/colab-badge.svg\" alt=\"Open In Colab\"/></a>"
      ]
    },
    {
      "cell_type": "code",
      "execution_count": 1,
      "metadata": {
        "id": "qHn_B-f4Yp1l"
      },
      "outputs": [],
      "source": [
        "import pandas as pd"
      ]
    },
    {
      "cell_type": "code",
      "source": [
        "df = pd.read_csv(\"/content/Bank Customer Churn Prediction.csv\")\n",
        "display(df)"
      ],
      "metadata": {
        "colab": {
          "base_uri": "https://localhost:8080/",
          "height": 424
        },
        "id": "qPS16gutZYuL",
        "outputId": "0d1a9226-7f24-44b8-ac77-a2f0cb813ff4"
      },
      "execution_count": 2,
      "outputs": [
        {
          "output_type": "display_data",
          "data": {
            "text/plain": [
              "      customer_id  credit_score  country  gender  age  tenure    balance  \\\n",
              "0        15634602           619   France  Female   42       2       0.00   \n",
              "1        15647311           608    Spain  Female   41       1   83807.86   \n",
              "2        15619304           502   France  Female   42       8  159660.80   \n",
              "3        15701354           699   France  Female   39       1       0.00   \n",
              "4        15737888           850    Spain  Female   43       2  125510.82   \n",
              "...           ...           ...      ...     ...  ...     ...        ...   \n",
              "9995     15606229           771   France    Male   39       5       0.00   \n",
              "9996     15569892           516   France    Male   35      10   57369.61   \n",
              "9997     15584532           709   France  Female   36       7       0.00   \n",
              "9998     15682355           772  Germany    Male   42       3   75075.31   \n",
              "9999     15628319           792   France  Female   28       4  130142.79   \n",
              "\n",
              "      products_number  credit_card  active_member  estimated_salary  churn  \n",
              "0                   1            1              1         101348.88      1  \n",
              "1                   1            0              1         112542.58      0  \n",
              "2                   3            1              0         113931.57      1  \n",
              "3                   2            0              0          93826.63      0  \n",
              "4                   1            1              1          79084.10      0  \n",
              "...               ...          ...            ...               ...    ...  \n",
              "9995                2            1              0          96270.64      0  \n",
              "9996                1            1              1         101699.77      0  \n",
              "9997                1            0              1          42085.58      1  \n",
              "9998                2            1              0          92888.52      1  \n",
              "9999                1            1              0          38190.78      0  \n",
              "\n",
              "[10000 rows x 12 columns]"
            ],
            "text/html": [
              "\n",
              "  <div id=\"df-cf15e560-75a8-4890-a6d4-25c2e6fc92f5\" class=\"colab-df-container\">\n",
              "    <div>\n",
              "<style scoped>\n",
              "    .dataframe tbody tr th:only-of-type {\n",
              "        vertical-align: middle;\n",
              "    }\n",
              "\n",
              "    .dataframe tbody tr th {\n",
              "        vertical-align: top;\n",
              "    }\n",
              "\n",
              "    .dataframe thead th {\n",
              "        text-align: right;\n",
              "    }\n",
              "</style>\n",
              "<table border=\"1\" class=\"dataframe\">\n",
              "  <thead>\n",
              "    <tr style=\"text-align: right;\">\n",
              "      <th></th>\n",
              "      <th>customer_id</th>\n",
              "      <th>credit_score</th>\n",
              "      <th>country</th>\n",
              "      <th>gender</th>\n",
              "      <th>age</th>\n",
              "      <th>tenure</th>\n",
              "      <th>balance</th>\n",
              "      <th>products_number</th>\n",
              "      <th>credit_card</th>\n",
              "      <th>active_member</th>\n",
              "      <th>estimated_salary</th>\n",
              "      <th>churn</th>\n",
              "    </tr>\n",
              "  </thead>\n",
              "  <tbody>\n",
              "    <tr>\n",
              "      <th>0</th>\n",
              "      <td>15634602</td>\n",
              "      <td>619</td>\n",
              "      <td>France</td>\n",
              "      <td>Female</td>\n",
              "      <td>42</td>\n",
              "      <td>2</td>\n",
              "      <td>0.00</td>\n",
              "      <td>1</td>\n",
              "      <td>1</td>\n",
              "      <td>1</td>\n",
              "      <td>101348.88</td>\n",
              "      <td>1</td>\n",
              "    </tr>\n",
              "    <tr>\n",
              "      <th>1</th>\n",
              "      <td>15647311</td>\n",
              "      <td>608</td>\n",
              "      <td>Spain</td>\n",
              "      <td>Female</td>\n",
              "      <td>41</td>\n",
              "      <td>1</td>\n",
              "      <td>83807.86</td>\n",
              "      <td>1</td>\n",
              "      <td>0</td>\n",
              "      <td>1</td>\n",
              "      <td>112542.58</td>\n",
              "      <td>0</td>\n",
              "    </tr>\n",
              "    <tr>\n",
              "      <th>2</th>\n",
              "      <td>15619304</td>\n",
              "      <td>502</td>\n",
              "      <td>France</td>\n",
              "      <td>Female</td>\n",
              "      <td>42</td>\n",
              "      <td>8</td>\n",
              "      <td>159660.80</td>\n",
              "      <td>3</td>\n",
              "      <td>1</td>\n",
              "      <td>0</td>\n",
              "      <td>113931.57</td>\n",
              "      <td>1</td>\n",
              "    </tr>\n",
              "    <tr>\n",
              "      <th>3</th>\n",
              "      <td>15701354</td>\n",
              "      <td>699</td>\n",
              "      <td>France</td>\n",
              "      <td>Female</td>\n",
              "      <td>39</td>\n",
              "      <td>1</td>\n",
              "      <td>0.00</td>\n",
              "      <td>2</td>\n",
              "      <td>0</td>\n",
              "      <td>0</td>\n",
              "      <td>93826.63</td>\n",
              "      <td>0</td>\n",
              "    </tr>\n",
              "    <tr>\n",
              "      <th>4</th>\n",
              "      <td>15737888</td>\n",
              "      <td>850</td>\n",
              "      <td>Spain</td>\n",
              "      <td>Female</td>\n",
              "      <td>43</td>\n",
              "      <td>2</td>\n",
              "      <td>125510.82</td>\n",
              "      <td>1</td>\n",
              "      <td>1</td>\n",
              "      <td>1</td>\n",
              "      <td>79084.10</td>\n",
              "      <td>0</td>\n",
              "    </tr>\n",
              "    <tr>\n",
              "      <th>...</th>\n",
              "      <td>...</td>\n",
              "      <td>...</td>\n",
              "      <td>...</td>\n",
              "      <td>...</td>\n",
              "      <td>...</td>\n",
              "      <td>...</td>\n",
              "      <td>...</td>\n",
              "      <td>...</td>\n",
              "      <td>...</td>\n",
              "      <td>...</td>\n",
              "      <td>...</td>\n",
              "      <td>...</td>\n",
              "    </tr>\n",
              "    <tr>\n",
              "      <th>9995</th>\n",
              "      <td>15606229</td>\n",
              "      <td>771</td>\n",
              "      <td>France</td>\n",
              "      <td>Male</td>\n",
              "      <td>39</td>\n",
              "      <td>5</td>\n",
              "      <td>0.00</td>\n",
              "      <td>2</td>\n",
              "      <td>1</td>\n",
              "      <td>0</td>\n",
              "      <td>96270.64</td>\n",
              "      <td>0</td>\n",
              "    </tr>\n",
              "    <tr>\n",
              "      <th>9996</th>\n",
              "      <td>15569892</td>\n",
              "      <td>516</td>\n",
              "      <td>France</td>\n",
              "      <td>Male</td>\n",
              "      <td>35</td>\n",
              "      <td>10</td>\n",
              "      <td>57369.61</td>\n",
              "      <td>1</td>\n",
              "      <td>1</td>\n",
              "      <td>1</td>\n",
              "      <td>101699.77</td>\n",
              "      <td>0</td>\n",
              "    </tr>\n",
              "    <tr>\n",
              "      <th>9997</th>\n",
              "      <td>15584532</td>\n",
              "      <td>709</td>\n",
              "      <td>France</td>\n",
              "      <td>Female</td>\n",
              "      <td>36</td>\n",
              "      <td>7</td>\n",
              "      <td>0.00</td>\n",
              "      <td>1</td>\n",
              "      <td>0</td>\n",
              "      <td>1</td>\n",
              "      <td>42085.58</td>\n",
              "      <td>1</td>\n",
              "    </tr>\n",
              "    <tr>\n",
              "      <th>9998</th>\n",
              "      <td>15682355</td>\n",
              "      <td>772</td>\n",
              "      <td>Germany</td>\n",
              "      <td>Male</td>\n",
              "      <td>42</td>\n",
              "      <td>3</td>\n",
              "      <td>75075.31</td>\n",
              "      <td>2</td>\n",
              "      <td>1</td>\n",
              "      <td>0</td>\n",
              "      <td>92888.52</td>\n",
              "      <td>1</td>\n",
              "    </tr>\n",
              "    <tr>\n",
              "      <th>9999</th>\n",
              "      <td>15628319</td>\n",
              "      <td>792</td>\n",
              "      <td>France</td>\n",
              "      <td>Female</td>\n",
              "      <td>28</td>\n",
              "      <td>4</td>\n",
              "      <td>130142.79</td>\n",
              "      <td>1</td>\n",
              "      <td>1</td>\n",
              "      <td>0</td>\n",
              "      <td>38190.78</td>\n",
              "      <td>0</td>\n",
              "    </tr>\n",
              "  </tbody>\n",
              "</table>\n",
              "<p>10000 rows × 12 columns</p>\n",
              "</div>\n",
              "    <div class=\"colab-df-buttons\">\n",
              "\n",
              "  <div class=\"colab-df-container\">\n",
              "    <button class=\"colab-df-convert\" onclick=\"convertToInteractive('df-cf15e560-75a8-4890-a6d4-25c2e6fc92f5')\"\n",
              "            title=\"Convert this dataframe to an interactive table.\"\n",
              "            style=\"display:none;\">\n",
              "\n",
              "  <svg xmlns=\"http://www.w3.org/2000/svg\" height=\"24px\" viewBox=\"0 -960 960 960\">\n",
              "    <path d=\"M120-120v-720h720v720H120Zm60-500h600v-160H180v160Zm220 220h160v-160H400v160Zm0 220h160v-160H400v160ZM180-400h160v-160H180v160Zm440 0h160v-160H620v160ZM180-180h160v-160H180v160Zm440 0h160v-160H620v160Z\"/>\n",
              "  </svg>\n",
              "    </button>\n",
              "\n",
              "  <style>\n",
              "    .colab-df-container {\n",
              "      display:flex;\n",
              "      gap: 12px;\n",
              "    }\n",
              "\n",
              "    .colab-df-convert {\n",
              "      background-color: #E8F0FE;\n",
              "      border: none;\n",
              "      border-radius: 50%;\n",
              "      cursor: pointer;\n",
              "      display: none;\n",
              "      fill: #1967D2;\n",
              "      height: 32px;\n",
              "      padding: 0 0 0 0;\n",
              "      width: 32px;\n",
              "    }\n",
              "\n",
              "    .colab-df-convert:hover {\n",
              "      background-color: #E2EBFA;\n",
              "      box-shadow: 0px 1px 2px rgba(60, 64, 67, 0.3), 0px 1px 3px 1px rgba(60, 64, 67, 0.15);\n",
              "      fill: #174EA6;\n",
              "    }\n",
              "\n",
              "    .colab-df-buttons div {\n",
              "      margin-bottom: 4px;\n",
              "    }\n",
              "\n",
              "    [theme=dark] .colab-df-convert {\n",
              "      background-color: #3B4455;\n",
              "      fill: #D2E3FC;\n",
              "    }\n",
              "\n",
              "    [theme=dark] .colab-df-convert:hover {\n",
              "      background-color: #434B5C;\n",
              "      box-shadow: 0px 1px 3px 1px rgba(0, 0, 0, 0.15);\n",
              "      filter: drop-shadow(0px 1px 2px rgba(0, 0, 0, 0.3));\n",
              "      fill: #FFFFFF;\n",
              "    }\n",
              "  </style>\n",
              "\n",
              "    <script>\n",
              "      const buttonEl =\n",
              "        document.querySelector('#df-cf15e560-75a8-4890-a6d4-25c2e6fc92f5 button.colab-df-convert');\n",
              "      buttonEl.style.display =\n",
              "        google.colab.kernel.accessAllowed ? 'block' : 'none';\n",
              "\n",
              "      async function convertToInteractive(key) {\n",
              "        const element = document.querySelector('#df-cf15e560-75a8-4890-a6d4-25c2e6fc92f5');\n",
              "        const dataTable =\n",
              "          await google.colab.kernel.invokeFunction('convertToInteractive',\n",
              "                                                    [key], {});\n",
              "        if (!dataTable) return;\n",
              "\n",
              "        const docLinkHtml = 'Like what you see? Visit the ' +\n",
              "          '<a target=\"_blank\" href=https://colab.research.google.com/notebooks/data_table.ipynb>data table notebook</a>'\n",
              "          + ' to learn more about interactive tables.';\n",
              "        element.innerHTML = '';\n",
              "        dataTable['output_type'] = 'display_data';\n",
              "        await google.colab.output.renderOutput(dataTable, element);\n",
              "        const docLink = document.createElement('div');\n",
              "        docLink.innerHTML = docLinkHtml;\n",
              "        element.appendChild(docLink);\n",
              "      }\n",
              "    </script>\n",
              "  </div>\n",
              "\n",
              "\n",
              "    <div id=\"df-bc18c206-b946-429b-866f-006de2e42cad\">\n",
              "      <button class=\"colab-df-quickchart\" onclick=\"quickchart('df-bc18c206-b946-429b-866f-006de2e42cad')\"\n",
              "                title=\"Suggest charts\"\n",
              "                style=\"display:none;\">\n",
              "\n",
              "<svg xmlns=\"http://www.w3.org/2000/svg\" height=\"24px\"viewBox=\"0 0 24 24\"\n",
              "     width=\"24px\">\n",
              "    <g>\n",
              "        <path d=\"M19 3H5c-1.1 0-2 .9-2 2v14c0 1.1.9 2 2 2h14c1.1 0 2-.9 2-2V5c0-1.1-.9-2-2-2zM9 17H7v-7h2v7zm4 0h-2V7h2v10zm4 0h-2v-4h2v4z\"/>\n",
              "    </g>\n",
              "</svg>\n",
              "      </button>\n",
              "\n",
              "<style>\n",
              "  .colab-df-quickchart {\n",
              "      --bg-color: #E8F0FE;\n",
              "      --fill-color: #1967D2;\n",
              "      --hover-bg-color: #E2EBFA;\n",
              "      --hover-fill-color: #174EA6;\n",
              "      --disabled-fill-color: #AAA;\n",
              "      --disabled-bg-color: #DDD;\n",
              "  }\n",
              "\n",
              "  [theme=dark] .colab-df-quickchart {\n",
              "      --bg-color: #3B4455;\n",
              "      --fill-color: #D2E3FC;\n",
              "      --hover-bg-color: #434B5C;\n",
              "      --hover-fill-color: #FFFFFF;\n",
              "      --disabled-bg-color: #3B4455;\n",
              "      --disabled-fill-color: #666;\n",
              "  }\n",
              "\n",
              "  .colab-df-quickchart {\n",
              "    background-color: var(--bg-color);\n",
              "    border: none;\n",
              "    border-radius: 50%;\n",
              "    cursor: pointer;\n",
              "    display: none;\n",
              "    fill: var(--fill-color);\n",
              "    height: 32px;\n",
              "    padding: 0;\n",
              "    width: 32px;\n",
              "  }\n",
              "\n",
              "  .colab-df-quickchart:hover {\n",
              "    background-color: var(--hover-bg-color);\n",
              "    box-shadow: 0 1px 2px rgba(60, 64, 67, 0.3), 0 1px 3px 1px rgba(60, 64, 67, 0.15);\n",
              "    fill: var(--button-hover-fill-color);\n",
              "  }\n",
              "\n",
              "  .colab-df-quickchart-complete:disabled,\n",
              "  .colab-df-quickchart-complete:disabled:hover {\n",
              "    background-color: var(--disabled-bg-color);\n",
              "    fill: var(--disabled-fill-color);\n",
              "    box-shadow: none;\n",
              "  }\n",
              "\n",
              "  .colab-df-spinner {\n",
              "    border: 2px solid var(--fill-color);\n",
              "    border-color: transparent;\n",
              "    border-bottom-color: var(--fill-color);\n",
              "    animation:\n",
              "      spin 1s steps(1) infinite;\n",
              "  }\n",
              "\n",
              "  @keyframes spin {\n",
              "    0% {\n",
              "      border-color: transparent;\n",
              "      border-bottom-color: var(--fill-color);\n",
              "      border-left-color: var(--fill-color);\n",
              "    }\n",
              "    20% {\n",
              "      border-color: transparent;\n",
              "      border-left-color: var(--fill-color);\n",
              "      border-top-color: var(--fill-color);\n",
              "    }\n",
              "    30% {\n",
              "      border-color: transparent;\n",
              "      border-left-color: var(--fill-color);\n",
              "      border-top-color: var(--fill-color);\n",
              "      border-right-color: var(--fill-color);\n",
              "    }\n",
              "    40% {\n",
              "      border-color: transparent;\n",
              "      border-right-color: var(--fill-color);\n",
              "      border-top-color: var(--fill-color);\n",
              "    }\n",
              "    60% {\n",
              "      border-color: transparent;\n",
              "      border-right-color: var(--fill-color);\n",
              "    }\n",
              "    80% {\n",
              "      border-color: transparent;\n",
              "      border-right-color: var(--fill-color);\n",
              "      border-bottom-color: var(--fill-color);\n",
              "    }\n",
              "    90% {\n",
              "      border-color: transparent;\n",
              "      border-bottom-color: var(--fill-color);\n",
              "    }\n",
              "  }\n",
              "</style>\n",
              "\n",
              "      <script>\n",
              "        async function quickchart(key) {\n",
              "          const quickchartButtonEl =\n",
              "            document.querySelector('#' + key + ' button');\n",
              "          quickchartButtonEl.disabled = true;  // To prevent multiple clicks.\n",
              "          quickchartButtonEl.classList.add('colab-df-spinner');\n",
              "          try {\n",
              "            const charts = await google.colab.kernel.invokeFunction(\n",
              "                'suggestCharts', [key], {});\n",
              "          } catch (error) {\n",
              "            console.error('Error during call to suggestCharts:', error);\n",
              "          }\n",
              "          quickchartButtonEl.classList.remove('colab-df-spinner');\n",
              "          quickchartButtonEl.classList.add('colab-df-quickchart-complete');\n",
              "        }\n",
              "        (() => {\n",
              "          let quickchartButtonEl =\n",
              "            document.querySelector('#df-bc18c206-b946-429b-866f-006de2e42cad button');\n",
              "          quickchartButtonEl.style.display =\n",
              "            google.colab.kernel.accessAllowed ? 'block' : 'none';\n",
              "        })();\n",
              "      </script>\n",
              "    </div>\n",
              "\n",
              "  <div id=\"id_b87436aa-4df6-499a-8a12-dcbb06aa3a2c\">\n",
              "    <style>\n",
              "      .colab-df-generate {\n",
              "        background-color: #E8F0FE;\n",
              "        border: none;\n",
              "        border-radius: 50%;\n",
              "        cursor: pointer;\n",
              "        display: none;\n",
              "        fill: #1967D2;\n",
              "        height: 32px;\n",
              "        padding: 0 0 0 0;\n",
              "        width: 32px;\n",
              "      }\n",
              "\n",
              "      .colab-df-generate:hover {\n",
              "        background-color: #E2EBFA;\n",
              "        box-shadow: 0px 1px 2px rgba(60, 64, 67, 0.3), 0px 1px 3px 1px rgba(60, 64, 67, 0.15);\n",
              "        fill: #174EA6;\n",
              "      }\n",
              "\n",
              "      [theme=dark] .colab-df-generate {\n",
              "        background-color: #3B4455;\n",
              "        fill: #D2E3FC;\n",
              "      }\n",
              "\n",
              "      [theme=dark] .colab-df-generate:hover {\n",
              "        background-color: #434B5C;\n",
              "        box-shadow: 0px 1px 3px 1px rgba(0, 0, 0, 0.15);\n",
              "        filter: drop-shadow(0px 1px 2px rgba(0, 0, 0, 0.3));\n",
              "        fill: #FFFFFF;\n",
              "      }\n",
              "    </style>\n",
              "    <button class=\"colab-df-generate\" onclick=\"generateWithVariable('df')\"\n",
              "            title=\"Generate code using this dataframe.\"\n",
              "            style=\"display:none;\">\n",
              "\n",
              "  <svg xmlns=\"http://www.w3.org/2000/svg\" height=\"24px\"viewBox=\"0 0 24 24\"\n",
              "       width=\"24px\">\n",
              "    <path d=\"M7,19H8.4L18.45,9,17,7.55,7,17.6ZM5,21V16.75L18.45,3.32a2,2,0,0,1,2.83,0l1.4,1.43a1.91,1.91,0,0,1,.58,1.4,1.91,1.91,0,0,1-.58,1.4L9.25,21ZM18.45,9,17,7.55Zm-12,3A5.31,5.31,0,0,0,4.9,8.1,5.31,5.31,0,0,0,1,6.5,5.31,5.31,0,0,0,4.9,4.9,5.31,5.31,0,0,0,6.5,1,5.31,5.31,0,0,0,8.1,4.9,5.31,5.31,0,0,0,12,6.5,5.46,5.46,0,0,0,6.5,12Z\"/>\n",
              "  </svg>\n",
              "    </button>\n",
              "    <script>\n",
              "      (() => {\n",
              "      const buttonEl =\n",
              "        document.querySelector('#id_b87436aa-4df6-499a-8a12-dcbb06aa3a2c button.colab-df-generate');\n",
              "      buttonEl.style.display =\n",
              "        google.colab.kernel.accessAllowed ? 'block' : 'none';\n",
              "\n",
              "      buttonEl.onclick = () => {\n",
              "        google.colab.notebook.generateWithVariable('df');\n",
              "      }\n",
              "      })();\n",
              "    </script>\n",
              "  </div>\n",
              "\n",
              "    </div>\n",
              "  </div>\n"
            ],
            "application/vnd.google.colaboratory.intrinsic+json": {
              "type": "dataframe",
              "variable_name": "df",
              "summary": "{\n  \"name\": \"df\",\n  \"rows\": 10000,\n  \"fields\": [\n    {\n      \"column\": \"customer_id\",\n      \"properties\": {\n        \"dtype\": \"number\",\n        \"std\": 71936,\n        \"min\": 15565701,\n        \"max\": 15815690,\n        \"num_unique_values\": 10000,\n        \"samples\": [\n          15687492,\n          15736963,\n          15721730\n        ],\n        \"semantic_type\": \"\",\n        \"description\": \"\"\n      }\n    },\n    {\n      \"column\": \"credit_score\",\n      \"properties\": {\n        \"dtype\": \"number\",\n        \"std\": 96,\n        \"min\": 350,\n        \"max\": 850,\n        \"num_unique_values\": 460,\n        \"samples\": [\n          754,\n          533,\n          744\n        ],\n        \"semantic_type\": \"\",\n        \"description\": \"\"\n      }\n    },\n    {\n      \"column\": \"country\",\n      \"properties\": {\n        \"dtype\": \"category\",\n        \"num_unique_values\": 3,\n        \"samples\": [\n          \"France\",\n          \"Spain\",\n          \"Germany\"\n        ],\n        \"semantic_type\": \"\",\n        \"description\": \"\"\n      }\n    },\n    {\n      \"column\": \"gender\",\n      \"properties\": {\n        \"dtype\": \"category\",\n        \"num_unique_values\": 2,\n        \"samples\": [\n          \"Male\",\n          \"Female\"\n        ],\n        \"semantic_type\": \"\",\n        \"description\": \"\"\n      }\n    },\n    {\n      \"column\": \"age\",\n      \"properties\": {\n        \"dtype\": \"number\",\n        \"std\": 10,\n        \"min\": 18,\n        \"max\": 92,\n        \"num_unique_values\": 70,\n        \"samples\": [\n          61,\n          42\n        ],\n        \"semantic_type\": \"\",\n        \"description\": \"\"\n      }\n    },\n    {\n      \"column\": \"tenure\",\n      \"properties\": {\n        \"dtype\": \"number\",\n        \"std\": 2,\n        \"min\": 0,\n        \"max\": 10,\n        \"num_unique_values\": 11,\n        \"samples\": [\n          6,\n          2\n        ],\n        \"semantic_type\": \"\",\n        \"description\": \"\"\n      }\n    },\n    {\n      \"column\": \"balance\",\n      \"properties\": {\n        \"dtype\": \"number\",\n        \"std\": 62397.40520238623,\n        \"min\": 0.0,\n        \"max\": 250898.09,\n        \"num_unique_values\": 6382,\n        \"samples\": [\n          117707.18,\n          133050.97\n        ],\n        \"semantic_type\": \"\",\n        \"description\": \"\"\n      }\n    },\n    {\n      \"column\": \"products_number\",\n      \"properties\": {\n        \"dtype\": \"number\",\n        \"std\": 0,\n        \"min\": 1,\n        \"max\": 4,\n        \"num_unique_values\": 4,\n        \"samples\": [\n          3,\n          4\n        ],\n        \"semantic_type\": \"\",\n        \"description\": \"\"\n      }\n    },\n    {\n      \"column\": \"credit_card\",\n      \"properties\": {\n        \"dtype\": \"number\",\n        \"std\": 0,\n        \"min\": 0,\n        \"max\": 1,\n        \"num_unique_values\": 2,\n        \"samples\": [\n          0,\n          1\n        ],\n        \"semantic_type\": \"\",\n        \"description\": \"\"\n      }\n    },\n    {\n      \"column\": \"active_member\",\n      \"properties\": {\n        \"dtype\": \"number\",\n        \"std\": 0,\n        \"min\": 0,\n        \"max\": 1,\n        \"num_unique_values\": 2,\n        \"samples\": [\n          0,\n          1\n        ],\n        \"semantic_type\": \"\",\n        \"description\": \"\"\n      }\n    },\n    {\n      \"column\": \"estimated_salary\",\n      \"properties\": {\n        \"dtype\": \"number\",\n        \"std\": 57510.49281769822,\n        \"min\": 11.58,\n        \"max\": 199992.48,\n        \"num_unique_values\": 9999,\n        \"samples\": [\n          100809.99,\n          95273.73\n        ],\n        \"semantic_type\": \"\",\n        \"description\": \"\"\n      }\n    },\n    {\n      \"column\": \"churn\",\n      \"properties\": {\n        \"dtype\": \"number\",\n        \"std\": 0,\n        \"min\": 0,\n        \"max\": 1,\n        \"num_unique_values\": 2,\n        \"samples\": [\n          0,\n          1\n        ],\n        \"semantic_type\": \"\",\n        \"description\": \"\"\n      }\n    }\n  ]\n}"
            }
          },
          "metadata": {}
        }
      ]
    },
    {
      "cell_type": "code",
      "source": [
        "print(df.info())"
      ],
      "metadata": {
        "colab": {
          "base_uri": "https://localhost:8080/"
        },
        "id": "rOL4PCV-ZuvF",
        "outputId": "958b370c-ece3-4394-9910-8f48677988e3"
      },
      "execution_count": 3,
      "outputs": [
        {
          "output_type": "stream",
          "name": "stdout",
          "text": [
            "<class 'pandas.core.frame.DataFrame'>\n",
            "RangeIndex: 10000 entries, 0 to 9999\n",
            "Data columns (total 12 columns):\n",
            " #   Column            Non-Null Count  Dtype  \n",
            "---  ------            --------------  -----  \n",
            " 0   customer_id       10000 non-null  int64  \n",
            " 1   credit_score      10000 non-null  int64  \n",
            " 2   country           10000 non-null  object \n",
            " 3   gender            10000 non-null  object \n",
            " 4   age               10000 non-null  int64  \n",
            " 5   tenure            10000 non-null  int64  \n",
            " 6   balance           10000 non-null  float64\n",
            " 7   products_number   10000 non-null  int64  \n",
            " 8   credit_card       10000 non-null  int64  \n",
            " 9   active_member     10000 non-null  int64  \n",
            " 10  estimated_salary  10000 non-null  float64\n",
            " 11  churn             10000 non-null  int64  \n",
            "dtypes: float64(2), int64(8), object(2)\n",
            "memory usage: 937.6+ KB\n",
            "None\n"
          ]
        }
      ]
    },
    {
      "cell_type": "code",
      "source": [
        "print(df.describe())"
      ],
      "metadata": {
        "colab": {
          "base_uri": "https://localhost:8080/"
        },
        "id": "qbSySxLGnTXo",
        "outputId": "3d552300-2cb6-475a-a256-1f60bf9d0235"
      },
      "execution_count": 4,
      "outputs": [
        {
          "output_type": "stream",
          "name": "stdout",
          "text": [
            "        customer_id  credit_score           age        tenure        balance  \\\n",
            "count  1.000000e+04  10000.000000  10000.000000  10000.000000   10000.000000   \n",
            "mean   1.569094e+07    650.528800     38.921800      5.012800   76485.889288   \n",
            "std    7.193619e+04     96.653299     10.487806      2.892174   62397.405202   \n",
            "min    1.556570e+07    350.000000     18.000000      0.000000       0.000000   \n",
            "25%    1.562853e+07    584.000000     32.000000      3.000000       0.000000   \n",
            "50%    1.569074e+07    652.000000     37.000000      5.000000   97198.540000   \n",
            "75%    1.575323e+07    718.000000     44.000000      7.000000  127644.240000   \n",
            "max    1.581569e+07    850.000000     92.000000     10.000000  250898.090000   \n",
            "\n",
            "       products_number  credit_card  active_member  estimated_salary  \\\n",
            "count     10000.000000  10000.00000   10000.000000      10000.000000   \n",
            "mean          1.530200      0.70550       0.515100     100090.239881   \n",
            "std           0.581654      0.45584       0.499797      57510.492818   \n",
            "min           1.000000      0.00000       0.000000         11.580000   \n",
            "25%           1.000000      0.00000       0.000000      51002.110000   \n",
            "50%           1.000000      1.00000       1.000000     100193.915000   \n",
            "75%           2.000000      1.00000       1.000000     149388.247500   \n",
            "max           4.000000      1.00000       1.000000     199992.480000   \n",
            "\n",
            "              churn  \n",
            "count  10000.000000  \n",
            "mean       0.203700  \n",
            "std        0.402769  \n",
            "min        0.000000  \n",
            "25%        0.000000  \n",
            "50%        0.000000  \n",
            "75%        0.000000  \n",
            "max        1.000000  \n"
          ]
        }
      ]
    },
    {
      "cell_type": "code",
      "source": [
        "print(df.isnull().sum())"
      ],
      "metadata": {
        "colab": {
          "base_uri": "https://localhost:8080/"
        },
        "id": "D-HGLWTOeF2i",
        "outputId": "0f0364ae-ded2-4999-9015-602ed9060d39"
      },
      "execution_count": 5,
      "outputs": [
        {
          "output_type": "stream",
          "name": "stdout",
          "text": [
            "customer_id         0\n",
            "credit_score        0\n",
            "country             0\n",
            "gender              0\n",
            "age                 0\n",
            "tenure              0\n",
            "balance             0\n",
            "products_number     0\n",
            "credit_card         0\n",
            "active_member       0\n",
            "estimated_salary    0\n",
            "churn               0\n",
            "dtype: int64\n"
          ]
        }
      ]
    },
    {
      "cell_type": "code",
      "source": [
        "print(df.shape)"
      ],
      "metadata": {
        "colab": {
          "base_uri": "https://localhost:8080/"
        },
        "id": "Y3paEQ0C1N1d",
        "outputId": "7d7746ef-479d-4303-ffef-ac12c82c1562"
      },
      "execution_count": 6,
      "outputs": [
        {
          "output_type": "stream",
          "name": "stdout",
          "text": [
            "(10000, 12)\n"
          ]
        }
      ]
    },
    {
      "cell_type": "markdown",
      "source": [
        "Which country has high churn rate"
      ],
      "metadata": {
        "id": "kpmO9NiI9h00"
      }
    },
    {
      "cell_type": "code",
      "source": [
        "import matplotlib.pyplot as plt\n",
        "\n",
        "df.groupby(['country','churn']).size().unstack().plot(kind='bar', stacked=True)\n",
        "plt.title('Churn Count by Country')\n",
        "plt.legend(['No Churn', 'Churn'])\n",
        "plt.show()\n"
      ],
      "metadata": {
        "colab": {
          "base_uri": "https://localhost:8080/",
          "height": 522
        },
        "id": "p3ZE0OGwg5ko",
        "outputId": "098fc574-0c9a-4b11-80e8-40db7623f6b6"
      },
      "execution_count": 7,
      "outputs": [
        {
          "output_type": "display_data",
          "data": {
            "text/plain": [
              "<Figure size 640x480 with 1 Axes>"
            ],
            "image/png": "[encoded data removed]"
          },
          "metadata": {}
        }
      ]
    },
    {
      "cell_type": "code",
      "source": [
        "print(df.groupby(['gender', 'churn']).size().reset_index(name='count'))"
      ],
      "metadata": {
        "colab": {
          "base_uri": "https://localhost:8080/"
        },
        "id": "lIRKn5bTi9wh",
        "outputId": "277c55cf-236c-4ced-b42e-12689e9716c9"
      },
      "execution_count": 8,
      "outputs": [
        {
          "output_type": "stream",
          "name": "stdout",
          "text": [
            "   gender  churn  count\n",
            "0  Female      0   3404\n",
            "1  Female      1   1139\n",
            "2    Male      0   4559\n",
            "3    Male      1    898\n"
          ]
        }
      ]
    },
    {
      "cell_type": "code",
      "source": [
        "df.groupby(['gender', 'churn']).size().unstack().plot(kind='bar', stacked=True)\n",
        "plt.title('Churn Count by Gender')\n",
        "plt.legend(['No Churn', 'Churn'])\n",
        "plt.show()"
      ],
      "metadata": {
        "colab": {
          "base_uri": "https://localhost:8080/",
          "height": 508
        },
        "id": "ggCgECDVjIo6",
        "outputId": "60cc655e-dce4-44a1-854c-8edb118b1e38"
      },
      "execution_count": 9,
      "outputs": [
        {
          "output_type": "display_data",
          "data": {
            "text/plain": [
              "<Figure size 640x480 with 1 Axes>"
            ],
            "image/png": "[encoded data removed]"
          },
          "metadata": {}
        }
      ]
    },
    {
      "cell_type": "markdown",
      "source": [
        "*Correlation*"
      ],
      "metadata": {
        "id": "hPU2pzow-HuH"
      }
    },
    {
      "cell_type": "code",
      "source": [
        "numeric_df = df.select_dtypes(include=['number'])\n",
        "correlations = numeric_df.corr()['churn'].sort_values(ascending=False)\n",
        "print(correlations)\n",
        "print('-----Correlation between credit score and balance-------')\n",
        "corr = df['credit_score'].corr(df['balance'])\n",
        "print(\"Correlation:\", corr)\n",
        "print('-----Correlation between age and salary-------')\n",
        "corr = df['age'].corr(df['estimated_salary'])\n",
        "print(\"Correlation:\", corr)\n",
        "print('-----Correlation between tenure and balance-------')\n",
        "corr = df['tenure'].corr(df['balance'])\n",
        "print(\"Correlation:\", corr)\n"
      ],
      "metadata": {
        "colab": {
          "base_uri": "https://localhost:8080/"
        },
        "id": "BAzGO7V3jiAu",
        "outputId": "422eab73-6a01-4bd5-d2d6-0e871f07f1c9"
      },
      "execution_count": 10,
      "outputs": [
        {
          "output_type": "stream",
          "name": "stdout",
          "text": [
            "churn               1.000000\n",
            "age                 0.285323\n",
            "balance             0.118533\n",
            "estimated_salary    0.012097\n",
            "customer_id        -0.006248\n",
            "credit_card        -0.007138\n",
            "tenure             -0.014001\n",
            "credit_score       -0.027094\n",
            "products_number    -0.047820\n",
            "active_member      -0.156128\n",
            "Name: churn, dtype: float64\n",
            "-----Correlation between credit score and balance-------\n",
            "Correlation: 0.006268381616008728\n",
            "-----Correlation between age and salary-------\n",
            "Correlation: -0.007201042376657299\n",
            "-----Correlation between tenure and balance-------\n",
            "Correlation: -0.012253926175215412\n"
          ]
        }
      ]
    },
    {
      "cell_type": "markdown",
      "source": [
        "churn persentage"
      ],
      "metadata": {
        "id": "qbj7C2f0vOVF"
      }
    },
    {
      "cell_type": "code",
      "source": [
        "print(df['churn'].value_counts())\n",
        "print(df['churn'].value_counts(normalize=True) * 100)\n"
      ],
      "metadata": {
        "colab": {
          "base_uri": "https://localhost:8080/"
        },
        "id": "3hMw27A0ugKU",
        "outputId": "dfbdb79f-d52d-41f8-ebc9-9aa86a3a82a7"
      },
      "execution_count": 11,
      "outputs": [
        {
          "output_type": "stream",
          "name": "stdout",
          "text": [
            "churn\n",
            "0    7963\n",
            "1    2037\n",
            "Name: count, dtype: int64\n",
            "churn\n",
            "0    79.63\n",
            "1    20.37\n",
            "Name: proportion, dtype: float64\n"
          ]
        }
      ]
    },
    {
      "cell_type": "markdown",
      "source": [
        "Average credit score (churned vs non churn)"
      ],
      "metadata": {
        "id": "rLy1DR6swLTU"
      }
    },
    {
      "cell_type": "code",
      "source": [
        "print('Normal average of Credit score = ', df['credit_score'].mean())\n",
        "\n",
        "print('''Average Credit Non_Churn vs Churn''',df.groupby('churn')['credit_score'].mean())"
      ],
      "metadata": {
        "colab": {
          "base_uri": "https://localhost:8080/"
        },
        "id": "hQgFLusUvZKZ",
        "outputId": "f1b9817d-849c-4e3c-f8fe-3506155d4410"
      },
      "execution_count": 12,
      "outputs": [
        {
          "output_type": "stream",
          "name": "stdout",
          "text": [
            "Normal average of Credit score =  650.5288\n",
            "Average Credit Non_Churn vs Churn churn\n",
            "0    651.853196\n",
            "1    645.351497\n",
            "Name: credit_score, dtype: float64\n"
          ]
        }
      ]
    },
    {
      "cell_type": "markdown",
      "source": [
        "logistic Model between credit_score and churn"
      ],
      "metadata": {
        "id": "G025mJXerAq_"
      }
    },
    {
      "cell_type": "code",
      "source": [
        "from sklearn.linear_model import LogisticRegression\n",
        "import numpy as np\n",
        "\n",
        "X = df[['credit_score']]  # feature\n",
        "y = df['churn']  # target\n",
        "\n",
        "model = LogisticRegression()\n",
        "model.fit(X, y)\n",
        "\n",
        "print(\"Coefficient for credit_score:\", model.coef_)\n",
        "print(\"Intercept:\", model.intercept_)\n"
      ],
      "metadata": {
        "colab": {
          "base_uri": "https://localhost:8080/"
        },
        "id": "ChZcKBYkqtOX",
        "outputId": "bfffc3a4-e5b6-423d-b681-b09729b4b603"
      },
      "execution_count": 13,
      "outputs": [
        {
          "output_type": "stream",
          "name": "stdout",
          "text": [
            "Coefficient for credit_score: [[-0.00069557]]\n",
            "Intercept: [-0.91217658]\n"
          ]
        }
      ]
    },
    {
      "cell_type": "markdown",
      "source": [
        "Average balance  (churned vs non churn)"
      ],
      "metadata": {
        "id": "vhpUlPOXx02O"
      }
    },
    {
      "cell_type": "code",
      "source": [
        "print('Normal average of balance= ',df['balance'].mean())\n",
        "print('''Average Balance Non_Churn vs Churn''',df.groupby('churn')['balance'].mean())\n",
        "print('---------------------------------------')\n",
        "print('Normal median of balance= ',df['balance'].median())\n",
        "print('''Meadin Balance Non_Churn vs Churn''',df.groupby('churn')['balance'].median())\n"
      ],
      "metadata": {
        "colab": {
          "base_uri": "https://localhost:8080/"
        },
        "id": "m8GxQX1Dxo5d",
        "outputId": "7f5a313f-0f8c-49e7-8221-be59aac576bd"
      },
      "execution_count": 14,
      "outputs": [
        {
          "output_type": "stream",
          "name": "stdout",
          "text": [
            "Normal average of balance=  76485.889288\n",
            "Average Balance Non_Churn vs Churn churn\n",
            "0    72745.296779\n",
            "1    91108.539337\n",
            "Name: balance, dtype: float64\n",
            "---------------------------------------\n",
            "Normal median of balance=  97198.54000000001\n",
            "Meadin Balance Non_Churn vs Churn churn\n",
            "0     92072.68\n",
            "1    109349.29\n",
            "Name: balance, dtype: float64\n"
          ]
        }
      ]
    },
    {
      "cell_type": "markdown",
      "source": [
        "mutivariable logistic Model for balance"
      ],
      "metadata": {
        "id": "fiLArUtrrtum"
      }
    },
    {
      "cell_type": "code",
      "source": [
        "from sklearn.linear_model import LogisticRegression\n",
        "\n",
        "X = df[['balance', 'tenure', 'active_member']]\n",
        "y = df['churn']\n",
        "\n",
        "model = LogisticRegression(max_iter=1000)\n",
        "model.fit(X, y)\n",
        "\n",
        "print(\"Coefficients:\", model.coef_)\n",
        "print(\"Intercept:\", model.intercept_)\n"
      ],
      "metadata": {
        "colab": {
          "base_uri": "https://localhost:8080/"
        },
        "id": "2A-iX3Jsrsb7",
        "outputId": "f7614a6c-cd92-4b69-c1fc-041c63288368"
      },
      "execution_count": 15,
      "outputs": [
        {
          "output_type": "stream",
          "name": "stdout",
          "text": [
            "Coefficients: [[ 4.89596555e-06 -1.56419003e-02 -7.96840992e-01]]\n",
            "Intercept: [-1.32315408]\n"
          ]
        }
      ]
    },
    {
      "cell_type": "markdown",
      "source": [
        "average tenure"
      ],
      "metadata": {
        "id": "9mIhL9w4mWpj"
      }
    },
    {
      "cell_type": "code",
      "source": [
        "print('Normal average of tenure= ',df['tenure'].mean())\n",
        "print('''Average tenure Non_Churn vs Churn''',df.groupby('churn')['tenure'].mean())"
      ],
      "metadata": {
        "colab": {
          "base_uri": "https://localhost:8080/"
        },
        "id": "MGBI5ivmzEq1",
        "outputId": "01543f63-6488-4a2c-f633-24bd677ace3c"
      },
      "execution_count": 16,
      "outputs": [
        {
          "output_type": "stream",
          "name": "stdout",
          "text": [
            "Normal average of tenure=  5.0128\n",
            "Average tenure Non_Churn vs Churn churn\n",
            "0    5.033279\n",
            "1    4.932744\n",
            "Name: tenure, dtype: float64\n"
          ]
        }
      ]
    },
    {
      "cell_type": "markdown",
      "source": [
        "average products"
      ],
      "metadata": {
        "id": "gyB-VD82mb2R"
      }
    },
    {
      "cell_type": "code",
      "source": [
        "print('Normal average of products_number    = ',df['products_number'].mean())\n",
        "print('''Average products_number Non_Churn vs Churn''',df.groupby('churn')['products_number'].mean())"
      ],
      "metadata": {
        "colab": {
          "base_uri": "https://localhost:8080/"
        },
        "id": "WgtpCoJp0FZ-",
        "outputId": "8306d2e2-5ee4-4945-8b80-d29750a212a5"
      },
      "execution_count": 17,
      "outputs": [
        {
          "output_type": "stream",
          "name": "stdout",
          "text": [
            "Normal average of products_number    =  1.5302\n",
            "Average products_number Non_Churn vs Churn churn\n",
            "0    1.544267\n",
            "1    1.475209\n",
            "Name: products_number, dtype: float64\n"
          ]
        }
      ]
    },
    {
      "cell_type": "markdown",
      "source": [
        "active member"
      ],
      "metadata": {
        "id": "y4wQVpUpmkFx"
      }
    },
    {
      "cell_type": "code",
      "source": [
        "print('Normal average of active_member    = ',df['active_member'].mean())\n",
        "print('''Average active_member Non_Churn vs Churn''',df.groupby('churn')['active_member'].mean())"
      ],
      "metadata": {
        "colab": {
          "base_uri": "https://localhost:8080/"
        },
        "id": "ozLwa9F506I-",
        "outputId": "4fab06ce-c91f-462c-c3e4-6e8f83e2a809"
      },
      "execution_count": 18,
      "outputs": [
        {
          "output_type": "stream",
          "name": "stdout",
          "text": [
            "Normal average of active_member    =  0.5151\n",
            "Average active_member Non_Churn vs Churn churn\n",
            "0    0.554565\n",
            "1    0.360825\n",
            "Name: active_member, dtype: float64\n"
          ]
        }
      ]
    },
    {
      "cell_type": "markdown",
      "source": [
        "Average age"
      ],
      "metadata": {
        "id": "S6EyC2KBnsQe"
      }
    },
    {
      "cell_type": "code",
      "source": [
        "print('Normal average of age    = ',df['age'].mean())\n",
        "print('''Average age Non_Churn vs Churn''',df.groupby('churn')['age'].mean())"
      ],
      "metadata": {
        "colab": {
          "base_uri": "https://localhost:8080/"
        },
        "id": "7HjVtjQ4mn48",
        "outputId": "a53bdcea-22dd-4c1e-d107-aa4d664c2936"
      },
      "execution_count": 19,
      "outputs": [
        {
          "output_type": "stream",
          "name": "stdout",
          "text": [
            "Normal average of age    =  38.9218\n",
            "Average age Non_Churn vs Churn churn\n",
            "0    37.408389\n",
            "1    44.837997\n",
            "Name: age, dtype: float64\n"
          ]
        }
      ]
    },
    {
      "cell_type": "markdown",
      "source": [
        "logistict model on Age"
      ],
      "metadata": {
        "id": "5rJ0NPnupTzU"
      }
    },
    {
      "cell_type": "code",
      "source": [
        "from sklearn.linear_model import LogisticRegression\n",
        "import numpy as np\n",
        "\n",
        "X = df[['age']]  # feature\n",
        "y = df['churn']  # target\n",
        "\n",
        "model = LogisticRegression()\n",
        "model.fit(X, y)\n",
        "\n",
        "print(\"Coefficient for age:\", model.coef_)\n",
        "print(\"Intercept:\", model.intercept_)\n"
      ],
      "metadata": {
        "colab": {
          "base_uri": "https://localhost:8080/"
        },
        "id": "UbwWNeD0oWFt",
        "outputId": "f0ca5f04-2d94-42b2-b9cf-c9335259ed5b"
      },
      "execution_count": 20,
      "outputs": [
        {
          "output_type": "stream",
          "name": "stdout",
          "text": [
            "Coefficient for age: [[0.06294475]]\n",
            "Intercept: [-3.92860441]\n"
          ]
        }
      ]
    },
    {
      "cell_type": "markdown",
      "source": [
        "High balance customers not churn rate\n"
      ],
      "metadata": {
        "id": "Qn_EHOnb2TOD"
      }
    },
    {
      "cell_type": "code",
      "source": [
        "threshold = df['balance'].quantile(0.75)\n",
        "\n",
        "high_balance = df[df['balance'] >= threshold]\n",
        "\n",
        "retention_rate = (len(high_balance[high_balance['churn']==0]) / len(high_balance)) * 100\n",
        "print(\"High Balance Customer Retention Rate:\", retention_rate, \"%\")\n"
      ],
      "metadata": {
        "colab": {
          "base_uri": "https://localhost:8080/"
        },
        "id": "RgIYo23H0pmC",
        "outputId": "690bb9da-35bc-453b-c053-5245d03b5e07"
      },
      "execution_count": 21,
      "outputs": [
        {
          "output_type": "stream",
          "name": "stdout",
          "text": [
            "High Balance Customer Retention Rate: 76.32 %\n"
          ]
        }
      ]
    },
    {
      "cell_type": "markdown",
      "source": [
        "logistic  model"
      ],
      "metadata": {
        "id": "TGDDJ7gR_3ih"
      }
    },
    {
      "cell_type": "markdown",
      "source": [
        "1. Customer Segmentation & Risk Profiles"
      ],
      "metadata": {
        "id": "kejm4RPA5Agp"
      }
    },
    {
      "cell_type": "code",
      "source": [
        "import pandas as pd\n",
        "from sklearn.model_selection import train_test_split\n",
        "from sklearn.ensemble import RandomForestClassifier\n",
        "\n",
        "\n",
        "X = df[['balance','tenure','credit_score','age','products_number','active_member']]\n",
        "y = df['churn']\n",
        "\n",
        "\n",
        "X_train, X_test, y_train, y_test = train_test_split(X, y, test_size=0.2, random_state=42)\n",
        "\n",
        "rf_model = RandomForestClassifier(n_estimators=100, random_state=42)\n",
        "rf_model.fit(X_train, y_train)\n",
        "\n",
        "y_prob = rf_model.predict_proba(X)[:,1]\n",
        "# Example thresholds\n",
        "df['churn_risk'] = pd.cut(y_prob, bins=[0, 0.33, 0.66, 1], labels=['Low', 'Medium', 'High'])\n",
        "print(df['churn_risk'].value_counts())"
      ],
      "metadata": {
        "colab": {
          "base_uri": "https://localhost:8080/"
        },
        "id": "aj3qTvjh3X-h",
        "outputId": "26137e0c-342d-477a-9620-0684407dd313"
      },
      "execution_count": 22,
      "outputs": [
        {
          "output_type": "stream",
          "name": "stdout",
          "text": [
            "churn_risk\n",
            "Low       6086\n",
            "High      1568\n",
            "Medium     510\n",
            "Name: count, dtype: int64\n"
          ]
        }
      ]
    },
    {
      "cell_type": "code",
      "metadata": {
        "colab": {
          "base_uri": "https://localhost:8080/",
          "height": 671
        },
        "id": "d3e6fb5c",
        "outputId": "2e7eaece-65c0-429b-a4b5-84635e93442a"
      },
      "source": [
        "import matplotlib.pyplot as plt\n",
        "import seaborn as sns\n",
        "\n",
        "plt.figure(figsize=(8, 6))\n",
        "sns.countplot(x='churn_risk', data=df, order=['Low', 'Medium', 'High'], palette='viridis')\n",
        "plt.title('Distribution of Churn Risk Levels')\n",
        "plt.xlabel('Churn Risk')\n",
        "plt.ylabel('Number of Customers')\n",
        "plt.show()"
      ],
      "execution_count": 23,
      "outputs": [
        {
          "output_type": "stream",
          "name": "stderr",
          "text": [
            "/tmp/ipython-input-649217865.py:5: FutureWarning: \n",
            "\n",
            "Passing `palette` without assigning `hue` is deprecated and will be removed in v0.14.0. Assign the `x` variable to `hue` and set `legend=False` for the same effect.\n",
            "\n",
            "  sns.countplot(x='churn_risk', data=df, order=['Low', 'Medium', 'High'], palette='viridis')\n"
          ]
        },
        {
          "output_type": "display_data",
          "data": {
            "text/plain": [
              "<Figure size 800x600 with 1 Axes>"
            ],
            "image/png": "[encoded data removed]"
          },
          "metadata": {}
        }
      ]
    },
    {
      "cell_type": "markdown",
      "source": [
        "Do younger vs older customers churn for different reasons ?"
      ],
      "metadata": {
        "id": "jhyoL8ZY_2KN"
      }
    },
    {
      "cell_type": "code",
      "source": [
        "import pandas as pd\n",
        "from sklearn.ensemble import RandomForestClassifier\n",
        "import matplotlib.pyplot as plt\n",
        "\n",
        "bins = [18, 30, 50, 100]\n",
        "labels = ['Young', 'Middle-aged', 'Old']\n",
        "df['age_group'] = pd.cut(df['age'], bins=bins, labels=labels)\n",
        "\n",
        "features = ['balance', 'tenure', 'credit_score', 'products_number', 'active_member', 'estimated_salary']\n",
        "\n",
        "for group in ['Young', 'Old']:\n",
        "    group_data = df[df['age_group'] == group]\n",
        "    X = group_data[features]\n",
        "    y = group_data['churn']\n",
        "\n",
        "    model = RandomForestClassifier(n_estimators=100, random_state=42)\n",
        "    model.fit(X, y)\n",
        "\n",
        "    importance = pd.Series(model.feature_importances_, index=X.columns).sort_values(ascending=False)\n",
        "\n",
        "    print(f\"\\nTop drivers of churn for {group} customers:\")\n",
        "    print(importance.head(3))\n",
        "\n",
        "\n",
        "    plt.figure(figsize=(6,4))\n",
        "    importance.sort_values().plot(kind='barh', color='skyblue')\n",
        "    plt.title(f\"Churn Drivers for {group} Customers\")\n",
        "    plt.xlabel(\"Feature Importance\")\n",
        "    plt.show()\n"
      ],
      "metadata": {
        "colab": {
          "base_uri": "https://localhost:8080/",
          "height": 1000
        },
        "id": "NU0AscbVHsMg",
        "outputId": "e1b919f9-1a2c-4e9a-e4ca-e05de8641286"
      },
      "execution_count": 24,
      "outputs": [
        {
          "output_type": "stream",
          "name": "stdout",
          "text": [
            "\n",
            "Top drivers of churn for Young customers:\n",
            "estimated_salary    0.260690\n",
            "credit_score        0.256585\n",
            "balance             0.240806\n",
            "dtype: float64\n"
          ]
        },
        {
          "output_type": "display_data",
          "data": {
            "text/plain": [
              "<Figure size 600x400 with 1 Axes>"
            ],
            "image/png": "[encoded data removed]"
          },
          "metadata": {}
        },
        {
          "output_type": "stream",
          "name": "stdout",
          "text": [
            "\n",
            "Top drivers of churn for Old customers:\n",
            "active_member       0.296342\n",
            "estimated_salary    0.178140\n",
            "credit_score        0.174500\n",
            "dtype: float64\n"
          ]
        },
        {
          "output_type": "display_data",
          "data": {
            "text/plain": [
              "<Figure size 600x400 with 1 Axes>"
            ],
            "image/png": "[encoded data removed]"
          },
          "metadata": {}
        }
      ]
    },
    {
      "cell_type": "markdown",
      "source": [
        "2. Behavioral Drivers of Churn"
      ],
      "metadata": {
        "id": "TRCr_sF7Ji_M"
      }
    },
    {
      "cell_type": "code",
      "source": [
        "from sklearn.ensemble import RandomForestClassifier\n",
        "\n",
        "# Define feature groups\n",
        "financial_features = ['balance', 'credit_score']\n",
        "engagement_features = ['active_member', 'products_number']\n",
        "other_features = ['tenure', 'estimated_salary']  # optional\n",
        "\n",
        "# Features and target\n",
        "X = df[financial_features + engagement_features + other_features]\n",
        "y = df['churn']\n",
        "\n",
        "# Train model\n",
        "model = RandomForestClassifier(n_estimators=100, random_state=42)\n",
        "model.fit(X, y)\n",
        "\n",
        "# Feature importance\n",
        "importance = pd.Series(model.feature_importances_, index=X.columns)\n",
        "\n",
        "# Grouped importance\n",
        "financial_importance = importance[financial_features].sum()\n",
        "engagement_importance = importance[engagement_features].sum()\n",
        "other_importance = importance[other_features].sum()\n",
        "\n",
        "print(\"Financial behavior importance:\", financial_importance)\n",
        "print(\"Engagement behavior importance:\", engagement_importance)\n",
        "print(\"Other factors importance:\", other_importance)\n",
        "\n",
        "# Compare visually\n",
        "import matplotlib.pyplot as plt\n",
        "\n",
        "group_importance = pd.Series({\n",
        "    \"Financial behavior\": financial_importance,\n",
        "    \"Engagement behavior\": engagement_importance,\n",
        "    \"Other\": other_importance\n",
        "})\n",
        "\n",
        "group_importance.plot(kind='bar', color=['#4CAF50','#2196F3','#FF9800'])\n",
        "plt.title(\"Which Factors Drive Churn More?\")\n",
        "plt.ylabel(\"Total Feature Importance\")\n",
        "plt.show()\n"
      ],
      "metadata": {
        "id": "tlDOrnW3JiT-",
        "colab": {
          "base_uri": "https://localhost:8080/",
          "height": 644
        },
        "outputId": "11f9b244-e68b-4a32-f430-afdb5a1e7f7f"
      },
      "execution_count": 25,
      "outputs": [
        {
          "output_type": "stream",
          "name": "stdout",
          "text": [
            "Financial behavior importance: 0.4706432998122469\n",
            "Engagement behavior importance: 0.17360692384524873\n",
            "Other factors importance: 0.3557497763425044\n"
          ]
        },
        {
          "output_type": "display_data",
          "data": {
            "text/plain": [
              "<Figure size 640x480 with 1 Axes>"
            ],
            "image/png": "[encoded data removed]"
          },
          "metadata": {}
        }
      ]
    },
    {
      "cell_type": "code",
      "source": [
        "import pandas as pd\n",
        "import numpy as np\n",
        "\n",
        "# Define thresholds (e.g., median split)\n",
        "balance_threshold = df['balance'].median()\n",
        "\n",
        "df['balance_group'] = np.where(df['balance'] >= balance_threshold, 'High Balance', 'Low Balance')\n",
        "df['activity_group'] = np.where(df['active_member'] == 1, 'Active', 'Inactive')\n",
        "\n",
        "# Combine groups\n",
        "df['customer_type'] = df['balance_group'] + \" & \" + df['activity_group']\n",
        "\n",
        "churn_rates = df.groupby('customer_type')['churn'].mean().sort_values(ascending=False)\n",
        "print(churn_rates)\n",
        "import matplotlib.pyplot as plt\n",
        "\n",
        "churn_rates.plot(kind='bar', color='skyblue')\n",
        "plt.title(\"Churn Rates by Customer Type\")\n",
        "plt.ylabel(\"Churn Rate\")\n",
        "plt.show()\n"
      ],
      "metadata": {
        "colab": {
          "base_uri": "https://localhost:8080/",
          "height": 728
        },
        "id": "j-8S1HtFB5Ks",
        "outputId": "031f1d95-3e05-4ca0-c143-998418d81ca0"
      },
      "execution_count": 26,
      "outputs": [
        {
          "output_type": "stream",
          "name": "stdout",
          "text": [
            "customer_type\n",
            "High Balance & Inactive    0.323290\n",
            "Low Balance & Inactive     0.212286\n",
            "High Balance & Active      0.178852\n",
            "Low Balance & Active       0.107403\n",
            "Name: churn, dtype: float64\n"
          ]
        },
        {
          "output_type": "display_data",
          "data": {
            "text/plain": [
              "<Figure size 640x480 with 1 Axes>"
            ],
            "image/png": "[encoded data removed]"
          },
          "metadata": {}
        }
      ]
    },
    {
      "cell_type": "markdown",
      "source": [
        "3. Predictive Power & Feature Importance\n"
      ],
      "metadata": {
        "id": "xNrHut21DrwK"
      }
    },
    {
      "cell_type": "code",
      "source": [
        "from sklearn.ensemble import RandomForestClassifier\n",
        "import matplotlib.pyplot as plt\n",
        "import pandas as pd\n",
        "\n",
        "# Features to test\n",
        "features = ['credit_score', 'balance', 'tenure', 'age', 'estimated_salary']\n",
        "X = df[features]\n",
        "y = df['churn']\n",
        "\n",
        "# Train model\n",
        "model = RandomForestClassifier(n_estimators=200, random_state=42)\n",
        "model.fit(X, y)\n",
        "\n",
        "# Feature importance\n",
        "importance = pd.Series(model.feature_importances_, index=features).sort_values(ascending=False)\n",
        "\n",
        "print(\"Feature importance in churn model:\")\n",
        "print(importance)\n",
        "\n",
        "# Visualization\n",
        "importance.plot(kind='barh', color='skyblue')\n",
        "plt.title(\"Predictive Power of Features for Churn\")\n",
        "plt.xlabel(\"Feature Importance\")\n",
        "plt.show()\n"
      ],
      "metadata": {
        "colab": {
          "base_uri": "https://localhost:8080/",
          "height": 594
        },
        "id": "vH7mOBxXCoiE",
        "outputId": "d768eeaa-1a9a-4ac7-bca2-49aac8b391f1"
      },
      "execution_count": 27,
      "outputs": [
        {
          "output_type": "stream",
          "name": "stdout",
          "text": [
            "Feature importance in churn model:\n",
            "age                 0.253258\n",
            "estimated_salary    0.237241\n",
            "credit_score        0.225381\n",
            "balance             0.182545\n",
            "tenure              0.101574\n",
            "dtype: float64\n"
          ]
        },
        {
          "output_type": "display_data",
          "data": {
            "text/plain": [
              "<Figure size 640x480 with 1 Axes>"
            ],
            "image/png": "[encoded data removed]"
          },
          "metadata": {}
        }
      ]
    },
    {
      "cell_type": "code",
      "source": [
        "churned_balance = df.loc[df['churn'] == 1, 'balance'].sum()\n",
        "total_balance = df['balance'].sum()\n",
        "\n",
        "percent_at_risk = churned_balance / total_balance * 100\n",
        "\n",
        "print(\"Balance at risk due to churn:\", churned_balance)\n",
        "print(\"Percent of total balance at risk:\", percent_at_risk, \"%\")\n"
      ],
      "metadata": {
        "colab": {
          "base_uri": "https://localhost:8080/"
        },
        "id": "hhmd3iuCF4uR",
        "outputId": "95014d24-9b45-4e84-dd74-453ed95f770b"
      },
      "execution_count": 28,
      "outputs": [
        {
          "output_type": "stream",
          "name": "stdout",
          "text": [
            "Balance at risk due to churn: 185588094.63\n",
            "Percent of total balance at risk: 24.26435730271586 %\n"
          ]
        }
      ]
    },
    {
      "cell_type": "code",
      "source": [
        "import pandas as pd\n",
        "\n",
        "# Create tenure groups\n",
        "bins = [0, 3, 6, 10]\n",
        "labels = ['Short (0-3)', 'Medium (4-6)', 'Long (7-10)']\n",
        "df['tenure_group'] = pd.cut(df['tenure'], bins=bins, labels=labels, right=True)\n",
        "\n",
        "# Churn rate in each tenure group\n",
        "churn_rate_by_tenure = df.groupby('tenure_group')['churn'].mean()\n",
        "print(churn_rate_by_tenure)\n",
        "\n",
        "churn_rate_by_tenure.plot(kind='bar', color='skyblue')\n",
        "plt.title(\"Churn Rate by Tenure Group\")\n",
        "plt.ylabel(\"Churn Rate\")\n",
        "plt.show()\n"
      ],
      "metadata": {
        "colab": {
          "base_uri": "https://localhost:8080/",
          "height": 693
        },
        "id": "GZRF75K8F4fr",
        "outputId": "e53daabe-34bc-410a-fed2-d75166c97296"
      },
      "execution_count": 29,
      "outputs": [
        {
          "output_type": "stream",
          "name": "stdout",
          "text": [
            "tenure_group\n",
            "Short (0-3)     0.208926\n",
            "Medium (4-6)    0.204852\n",
            "Long (7-10)     0.195067\n",
            "Name: churn, dtype: float64\n"
          ]
        },
        {
          "output_type": "stream",
          "name": "stderr",
          "text": [
            "/tmp/ipython-input-4217566900.py:9: FutureWarning: The default of observed=False is deprecated and will be changed to True in a future version of pandas. Pass observed=False to retain current behavior or observed=True to adopt the future default and silence this warning.\n",
            "  churn_rate_by_tenure = df.groupby('tenure_group')['churn'].mean()\n"
          ]
        },
        {
          "output_type": "display_data",
          "data": {
            "text/plain": [
              "<Figure size 640x480 with 1 Axes>"
            ],
            "image/png": "[encoded data removed]"
          },
          "metadata": {}
        }
      ]
    },
    {
      "cell_type": "code",
      "source": [
        "import pandas as pd\n",
        "import matplotlib.pyplot as plt\n",
        "\n",
        "age_bins = [18, 25, 35, 45, 55, 65, 100]\n",
        "df['age_group'] = pd.cut(df['age'], bins=age_bins)\n",
        "\n",
        "tenure_bins = [0, 2, 4, 6, 8, 10]\n",
        "df['tenure_group'] = pd.cut(df['tenure'], bins=tenure_bins)\n",
        "\n",
        "\n",
        "age_churn = df.groupby('age_group')['churn'].mean()\n",
        "tenure_churn = df.groupby('tenure_group')['churn'].mean()\n",
        "\n",
        "print(\"Churn by Age Group:\\n\", age_churn)\n",
        "print(\"\\nChurn by Tenure Group:\\n\", tenure_churn)\n",
        "\n",
        "\n",
        "fig, axes = plt.subplots(1, 2, figsize=(12,5))\n",
        "\n",
        "age_churn.plot(kind='bar', ax=axes[0], color='skyblue')\n",
        "axes[0].set_title(\"Churn Rate by Age Group\")\n",
        "axes[0].set_ylabel(\"Churn Rate\")\n",
        "\n",
        "tenure_churn.plot(kind='bar', ax=axes[1], color='salmon')\n",
        "axes[1].set_title(\"Churn Rate by Tenure Group\")\n",
        "axes[1].set_ylabel(\"Churn Rate\")\n",
        "\n",
        "plt.tight_layout()\n",
        "plt.show()\n"
      ],
      "metadata": {
        "colab": {
          "base_uri": "https://localhost:8080/",
          "height": 887
        },
        "id": "mVcXw6htHq9F",
        "outputId": "309294eb-2a77-4a66-905a-027f76a1334a"
      },
      "execution_count": 30,
      "outputs": [
        {
          "output_type": "stream",
          "name": "stderr",
          "text": [
            "/tmp/ipython-input-89211954.py:13: FutureWarning: The default of observed=False is deprecated and will be changed to True in a future version of pandas. Pass observed=False to retain current behavior or observed=True to adopt the future default and silence this warning.\n",
            "  age_churn = df.groupby('age_group')['churn'].mean()\n",
            "/tmp/ipython-input-89211954.py:14: FutureWarning: The default of observed=False is deprecated and will be changed to True in a future version of pandas. Pass observed=False to retain current behavior or observed=True to adopt the future default and silence this warning.\n",
            "  tenure_churn = df.groupby('tenure_group')['churn'].mean()\n"
          ]
        },
        {
          "output_type": "stream",
          "name": "stdout",
          "text": [
            "Churn by Age Group:\n",
            " age_group\n",
            "(18, 25]     0.074703\n",
            "(25, 35]     0.084980\n",
            "(35, 45]     0.196199\n",
            "(45, 55]     0.505721\n",
            "(55, 65]     0.483209\n",
            "(65, 100]    0.132576\n",
            "Name: churn, dtype: float64\n",
            "\n",
            "Churn by Tenure Group:\n",
            " tenure_group\n",
            "(0, 2]     0.207873\n",
            "(2, 4]     0.208208\n",
            "(4, 6]     0.204649\n",
            "(6, 8]     0.182172\n",
            "(8, 10]    0.213026\n",
            "Name: churn, dtype: float64\n"
          ]
        },
        {
          "output_type": "display_data",
          "data": {
            "text/plain": [
              "<Figure size 1200x500 with 2 Axes>"
            ],
            "image/png": "[encoded data removed]"
          },
          "metadata": {}
        }
      ]
    }
  ]
}